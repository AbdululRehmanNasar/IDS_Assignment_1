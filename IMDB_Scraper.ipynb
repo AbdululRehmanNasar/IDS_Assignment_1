{
 "cells": [
  {
   "cell_type": "markdown",
   "id": "9abd1908b1f6d03a",
   "metadata": {
    "collapsed": false
   },
   "source": [
    "**12-3-2024**\n",
    "**CSC461 – Assignment1 – IDS – Web Scraping**\n",
    "**Abdul Rehman**\n",
    "**FA21-BSE-080**\n",
    "**IMDB Scraper**"
   ]
  },
  {
   "cell_type": "code",
   "execution_count": 2,
   "id": "af68bfdcf5a9668b",
   "metadata": {
    "ExecuteTime": {
     "end_time": "2024-03-10T19:01:09.237108100Z",
     "start_time": "2024-03-10T19:01:09.208937600Z"
    },
    "collapsed": false
   },
   "outputs": [
    {
     "ename": "ModuleNotFoundError",
     "evalue": "No module named 'requests'",
     "output_type": "error",
     "traceback": [
      "\u001b[1;31m---------------------------------------------------------------------------\u001b[0m",
      "\u001b[1;31mModuleNotFoundError\u001b[0m                       Traceback (most recent call last)",
      "Cell \u001b[1;32mIn[2], line 1\u001b[0m\n\u001b[1;32m----> 1\u001b[0m \u001b[38;5;28;01mimport\u001b[39;00m \u001b[38;5;21;01mrequests\u001b[39;00m\n\u001b[0;32m      2\u001b[0m \u001b[38;5;28;01mfrom\u001b[39;00m \u001b[38;5;21;01mbs4\u001b[39;00m \u001b[38;5;28;01mimport\u001b[39;00m BeautifulSoup\n\u001b[0;32m      3\u001b[0m \u001b[38;5;28;01mimport\u001b[39;00m \u001b[38;5;21;01mpandas\u001b[39;00m \u001b[38;5;28;01mas\u001b[39;00m \u001b[38;5;21;01mpd\u001b[39;00m\n",
      "\u001b[1;31mModuleNotFoundError\u001b[0m: No module named 'requests'"
     ]
    }
   ],
   "source": [
    "import requests\n",
    "from bs4 import BeautifulSoup\n",
    "import pandas as pd"
   ]
  },
  {
   "cell_type": "code",
   "execution_count": null,
   "id": "9e655f2269164c34",
   "metadata": {
    "ExecuteTime": {
     "end_time": "2024-03-10T19:01:11.624591600Z",
     "start_time": "2024-03-10T19:01:09.214234600Z"
    },
    "collapsed": false
   },
   "outputs": [],
   "source": [
    "url = 'https://www.imdb.com/chart/top/'\n",
    "headers = {\n",
    "    'User-Agent': 'Mozilla/5.0 (Windows NT 10.0; Win64; x64) AppleWebKit/537.36 (KHTML, like Gecko) Chrome/58.0.3029.110 Safari/537.3'\n",
    "}\n",
    "response = requests.get(url, headers=headers)\n",
    "soup = BeautifulSoup(response.text, 'html.parser')\n",
    "\n",
    "movies = []\n",
    "rows = soup.find('ul', class_='ipc-metadata-list')"
   ]
  },
  {
   "cell_type": "code",
   "execution_count": null,
   "id": "b12058ca67fa5896",
   "metadata": {
    "ExecuteTime": {
     "end_time": "2024-03-10T19:01:11.657290700Z",
     "start_time": "2024-03-10T19:01:11.653914300Z"
    },
    "collapsed": false
   },
   "outputs": [],
   "source": [
    "for row in rows.contents:\n",
    "    title = row.contents[1].div.contents[1].div.h3.text\n",
    "    year = row.contents[1].div.contents[1].contents[1].contents[0].text\n",
    "    duration = row.contents[1].div.contents[1].contents[1].contents[1].text\n",
    "    rating = row.contents[1].div.contents[1].contents[2].span.contents[1]\n",
    "    \n",
    "    if title and rating and year and rating:\n",
    "        movies.append({\n",
    "            'Title': title,\n",
    "            'Year': year,\n",
    "            'IMDB Rating': rating,\n",
    "            'Duration': duration\n",
    "        })"
   ]
  },
  {
   "cell_type": "code",
   "execution_count": null,
   "id": "53cfd8c599270eb3",
   "metadata": {
    "ExecuteTime": {
     "end_time": "2024-03-10T19:01:11.685278900Z",
     "start_time": "2024-03-10T19:01:11.657290700Z"
    },
    "collapsed": false
   },
   "outputs": [
    {
     "name": "stdout",
     "output_type": "stream",
     "text": [
      "                         Title  Year IMDB Rating Duration\n",
      "0  1. The Shawshank Redemption  1994         9.3   2h 22m\n",
      "1             2. The Godfather  1972         9.2   2h 55m\n",
      "2           3. The Dark Knight  2008         9.0   2h 32m\n",
      "3     4. The Godfather Part II  1974         9.0   3h 22m\n",
      "4              5. 12 Angry Men  1957         9.0   1h 36m\n"
     ]
    }
   ],
   "source": [
    "movies_df = pd.DataFrame(movies)\n",
    "movies_df.to_csv('Movies.csv', index=False)\n",
    "\n",
    "print(movies_df.head())"
   ]
  }
 ],
 "metadata": {
  "kernelspec": {
   "display_name": "Python 3",
   "language": "python",
   "name": "python3"
  },
  "language_info": {
   "codemirror_mode": {
    "name": "ipython",
    "version": 3
   },
   "file_extension": ".py",
   "mimetype": "text/x-python",
   "name": "python",
   "nbconvert_exporter": "python",
   "pygments_lexer": "ipython3",
   "version": "3.12.2"
  }
 },
 "nbformat": 4,
 "nbformat_minor": 5
}
