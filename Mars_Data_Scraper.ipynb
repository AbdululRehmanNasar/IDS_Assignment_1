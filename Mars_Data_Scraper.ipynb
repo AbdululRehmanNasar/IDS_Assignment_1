{
 "cells": [
  {
   "cell_type": "markdown",
   "id": "9abd1908b1f6d03a",
   "metadata": {
    "collapsed": false
   },
   "source": [
    "**12-3-2024**\n",
    "**CSC461 – Assignment1 – IDS – Web Scraping**\n",
    "**Abdul Rehman**\n",
    "**FA21-BSE-080**\n",
    "**Mars Planet Profile Scraper**"
   ]
  },
  {
   "cell_type": "code",
   "execution_count": 1,
   "id": "af68bfdcf5a9668b",
   "metadata": {
    "ExecuteTime": {
     "end_time": "2024-03-10T19:19:20.225782900Z",
     "start_time": "2024-03-10T19:19:20.194707600Z"
    },
    "collapsed": false
   },
   "outputs": [
    {
     "ename": "ModuleNotFoundError",
     "evalue": "No module named 'requests'",
     "output_type": "error",
     "traceback": [
      "\u001b[1;31m---------------------------------------------------------------------------\u001b[0m",
      "\u001b[1;31mModuleNotFoundError\u001b[0m                       Traceback (most recent call last)",
      "Cell \u001b[1;32mIn[1], line 1\u001b[0m\n\u001b[1;32m----> 1\u001b[0m \u001b[38;5;28;01mimport\u001b[39;00m \u001b[38;5;21;01mrequests\u001b[39;00m\n\u001b[0;32m      2\u001b[0m \u001b[38;5;28;01mfrom\u001b[39;00m \u001b[38;5;21;01mbs4\u001b[39;00m \u001b[38;5;28;01mimport\u001b[39;00m BeautifulSoup\n\u001b[0;32m      3\u001b[0m \u001b[38;5;28;01mimport\u001b[39;00m \u001b[38;5;21;01mpandas\u001b[39;00m \u001b[38;5;28;01mas\u001b[39;00m \u001b[38;5;21;01mpd\u001b[39;00m\n",
      "\u001b[1;31mModuleNotFoundError\u001b[0m: No module named 'requests'"
     ]
    }
   ],
   "source": [
    "import requests\n",
    "from bs4 import BeautifulSoup\n",
    "import pandas as pd"
   ]
  },
  {
   "cell_type": "code",
   "execution_count": null,
   "id": "9e655f2269164c34",
   "metadata": {
    "ExecuteTime": {
     "end_time": "2024-03-10T19:19:23.153417600Z",
     "start_time": "2024-03-10T19:19:20.194707600Z"
    },
    "collapsed": false
   },
   "outputs": [],
   "source": [
    "url = 'https://space-facts.com/mars/'\n",
    "response = requests.get(url)\n",
    "\n",
    "soup = BeautifulSoup(response.text, 'html.parser')\n",
    "    \n",
    "mars_facts_table = soup.find('table', id='tablepress-p-mars')\n",
    "\n",
    "headers = []\n",
    "rows = mars_facts_table.find_all('tr')"
   ]
  },
  {
   "cell_type": "code",
   "execution_count": null,
   "id": "b12058ca67fa5896",
   "metadata": {
    "ExecuteTime": {
     "end_time": "2024-03-10T19:19:23.170804800Z",
     "start_time": "2024-03-10T19:19:23.165613800Z"
    },
    "collapsed": false
   },
   "outputs": [],
   "source": [
    "for row in rows:\n",
    "    columns = row.find_all(['th','td'])\n",
    "    row_data = [col.text.strip() for col in columns]\n",
    "    if columns[0].name == 'th':  \n",
    "        headers = row_data\n",
    "    else:\n",
    "        if not headers: \n",
    "            headers = ['Property', 'Value']"
   ]
  },
  {
   "cell_type": "code",
   "execution_count": null,
   "id": "53cfd8c599270eb3",
   "metadata": {
    "ExecuteTime": {
     "end_time": "2024-03-10T19:19:23.197499200Z",
     "start_time": "2024-03-10T19:19:23.172065300Z"
    },
    "collapsed": false
   },
   "outputs": [],
   "source": [
    "data = []\n",
    "for row in rows:\n",
    "    columns = row.find_all('td')\n",
    "    if len(columns) > 1: \n",
    "        data.append({\n",
    "            headers[0]: columns[0].text.strip(),\n",
    "            headers[1]: columns[1].text.strip()\n",
    "        })"
   ]
  },
  {
   "cell_type": "code",
   "execution_count": null,
   "id": "e789801ead561b26",
   "metadata": {
    "ExecuteTime": {
     "end_time": "2024-03-10T19:19:23.307561500Z",
     "start_time": "2024-03-10T19:19:23.190490400Z"
    },
    "collapsed": false
   },
   "outputs": [
    {
     "data": {
      "text/html": [
       "<div>\n",
       "<style scoped>\n",
       "    .dataframe tbody tr th:only-of-type {\n",
       "        vertical-align: middle;\n",
       "    }\n",
       "\n",
       "    .dataframe tbody tr th {\n",
       "        vertical-align: top;\n",
       "    }\n",
       "\n",
       "    .dataframe thead th {\n",
       "        text-align: right;\n",
       "    }\n",
       "</style>\n",
       "<table border=\"1\" class=\"dataframe\">\n",
       "  <thead>\n",
       "    <tr style=\"text-align: right;\">\n",
       "      <th></th>\n",
       "      <th>Property</th>\n",
       "      <th>Value</th>\n",
       "    </tr>\n",
       "  </thead>\n",
       "  <tbody>\n",
       "    <tr>\n",
       "      <th>0</th>\n",
       "      <td>Equatorial Diameter:</td>\n",
       "      <td>6,792 km</td>\n",
       "    </tr>\n",
       "    <tr>\n",
       "      <th>1</th>\n",
       "      <td>Polar Diameter:</td>\n",
       "      <td>6,752 km</td>\n",
       "    </tr>\n",
       "    <tr>\n",
       "      <th>2</th>\n",
       "      <td>Mass:</td>\n",
       "      <td>6.39 × 10^23 kg\\n(0.11 Earths)</td>\n",
       "    </tr>\n",
       "    <tr>\n",
       "      <th>3</th>\n",
       "      <td>Moons:</td>\n",
       "      <td>2 (Phobos &amp; Deimos)</td>\n",
       "    </tr>\n",
       "    <tr>\n",
       "      <th>4</th>\n",
       "      <td>Orbit Distance:</td>\n",
       "      <td>227,943,824 km\\n(1.38 AU)</td>\n",
       "    </tr>\n",
       "    <tr>\n",
       "      <th>5</th>\n",
       "      <td>Orbit Period:</td>\n",
       "      <td>687 days (1.9 years)</td>\n",
       "    </tr>\n",
       "    <tr>\n",
       "      <th>6</th>\n",
       "      <td>Surface Temperature:</td>\n",
       "      <td>-87 to -5 °C</td>\n",
       "    </tr>\n",
       "    <tr>\n",
       "      <th>7</th>\n",
       "      <td>First Record:</td>\n",
       "      <td>2nd millennium BC</td>\n",
       "    </tr>\n",
       "    <tr>\n",
       "      <th>8</th>\n",
       "      <td>Recorded By:</td>\n",
       "      <td>Egyptian astronomers</td>\n",
       "    </tr>\n",
       "  </tbody>\n",
       "</table>\n",
       "</div>"
      ],
      "text/plain": [
       "               Property                           Value\n",
       "0  Equatorial Diameter:                        6,792 km\n",
       "1       Polar Diameter:                        6,752 km\n",
       "2                 Mass:  6.39 × 10^23 kg\\n(0.11 Earths)\n",
       "3                Moons:             2 (Phobos & Deimos)\n",
       "4       Orbit Distance:       227,943,824 km\\n(1.38 AU)\n",
       "5         Orbit Period:            687 days (1.9 years)\n",
       "6  Surface Temperature:                    -87 to -5 °C\n",
       "7         First Record:               2nd millennium BC\n",
       "8          Recorded By:            Egyptian astronomers"
      ]
     },
     "execution_count": 16,
     "metadata": {},
     "output_type": "execute_result"
    }
   ],
   "source": [
    "mars_facts_df = pd.DataFrame(data)\n",
    "mars_facts_df"
   ]
  },
  {
   "cell_type": "code",
   "execution_count": null,
   "id": "2bfc75be54b1f764",
   "metadata": {
    "ExecuteTime": {
     "end_time": "2024-03-10T19:19:23.307561500Z",
     "start_time": "2024-03-10T19:19:23.201304300Z"
    },
    "collapsed": false
   },
   "outputs": [],
   "source": [
    "excel_filename = 'Mars.xlsx'\n",
    "mars_facts_df.to_excel(excel_filename, index=False)"
   ]
  }
 ],
 "metadata": {
  "kernelspec": {
   "display_name": "Python 3",
   "language": "python",
   "name": "python3"
  },
  "language_info": {
   "codemirror_mode": {
    "name": "ipython",
    "version": 3
   },
   "file_extension": ".py",
   "mimetype": "text/x-python",
   "name": "python",
   "nbconvert_exporter": "python",
   "pygments_lexer": "ipython3",
   "version": "3.12.2"
  }
 },
 "nbformat": 4,
 "nbformat_minor": 5
}
